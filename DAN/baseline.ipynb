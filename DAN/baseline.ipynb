{
 "cells": [
  {
   "cell_type": "code",
   "execution_count": 1,
   "id": "6aa2d864-f9ec-4855-8c09-b096be6a0297",
   "metadata": {
    "tags": []
   },
   "outputs": [],
   "source": [
    "import torch\n",
    "from torchvision import datasets, transforms\n",
    "from torch.utils.data import DataLoader, ConcatDataset\n",
    "from torch.utils.data import Dataset\n",
    "from torch.utils.data import random_split\n",
    "import torch.nn as nn\n",
    "import torch.nn.functional as F\n",
    "import torch.optim as optim\n",
    "import pickle\n",
    "import os\n",
    "from PIL import Image\n",
    "\n",
    "from mnistm import MNISTMDataset"
   ]
  },
  {
   "cell_type": "code",
   "execution_count": 2,
   "id": "b7241e63-d053-4ced-9926-2dfc5778ce10",
   "metadata": {
    "tags": []
   },
   "outputs": [
    {
     "data": {
      "text/plain": [
       "'NVIDIA GeForce RTX 4080'"
      ]
     },
     "execution_count": 2,
     "metadata": {},
     "output_type": "execute_result"
    }
   ],
   "source": [
    "# Set device\n",
    "device = torch.device(\"cuda\" if torch.cuda.is_available() else \"cpu\")\n",
    "torch.cuda.get_device_name()"
   ]
  },
  {
   "cell_type": "markdown",
   "id": "8d3125d2-2622-4f6a-a8fb-5a0c026efeab",
   "metadata": {},
   "source": [
    "# Data Preprocessing"
   ]
  },
  {
   "cell_type": "code",
   "execution_count": 3,
   "id": "c242a755-1a78-48e1-a614-a85f96fff4be",
   "metadata": {
    "tags": []
   },
   "outputs": [],
   "source": [
    "# Define transformations\n",
    "transform_mnist = transforms.Compose([\n",
    "    transforms.Resize((32, 32)),  # Resize to the same size as used in SVHN)\n",
    "    transforms.Grayscale(num_output_channels=3),  # Convert to 3-channel RGB\n",
    "    transforms.ToTensor(),  # Convert to Tensor\n",
    "    transforms.Normalize((0.5,), (0.5,))  # Normalize (assuming grayscale, same value for all channels)\n",
    "])\n",
    "\n",
    "transform_mnist_m = transforms.Compose([\n",
    "    transforms.Resize((32, 32)),  \n",
    "    transforms.ToTensor(),\n",
    "    transforms.Normalize((0.5, 0.5, 0.5), (0.5, 0.5, 0.5))  # Normalize for RGB\n",
    "])\n",
    "\n",
    "transform_svhn = transforms.Compose([\n",
    "    transforms.ToTensor(),\n",
    "    transforms.Normalize((0.5, 0.5, 0.5), (0.5, 0.5, 0.5))\n",
    "])\n",
    "\n",
    "transform_usps = transforms.Compose([\n",
    "    transforms.Resize((32, 32)),  # Resize to the same size as used in SVHN)\n",
    "    transforms.Grayscale(num_output_channels=3),  # Convert to 3-channel RGB\n",
    "    transforms.ToTensor(),  # Convert to Tensor\n",
    "    transforms.Normalize((0.5,), (0.5,))  # Normalize (assuming grayscale, same value for all channels)\n",
    "])"
   ]
  },
  {
   "cell_type": "code",
   "execution_count": 4,
   "id": "71c42b54-7cd3-4e65-a5f5-6a9dfaa4f8ed",
   "metadata": {},
   "outputs": [
    {
     "name": "stdout",
     "output_type": "stream",
     "text": [
      "Using downloaded and verified file: ./data\\train_32x32.mat\n",
      "Using downloaded and verified file: ./data\\test_32x32.mat\n"
     ]
    }
   ],
   "source": [
    "# Load datasets\n",
    "mnist_train_dataset = datasets.MNIST(root='./data', train=True, download=True, transform=transform_mnist)\n",
    "mnist_test_dataset = datasets.MNIST(root='./data', train=False, download=True, transform=transform_mnist)\n",
    "#mnist_m_dataset = datasets.ImageFolder(root='./mnist_m', transform=transform_mnist_m)\n",
    "mnistm_train_dataset = MNISTMDataset(\"./datasets\", train = True, transform=transform_mnist_m)\n",
    "mnistm_test_dataset = MNISTMDataset(\"./datasets\", train = False, transform=transform_mnist_m)\n",
    "\n",
    "svhn_train_dataset = datasets.SVHN(root='./data', split='train', download=True, transform=transform_svhn)\n",
    "svhn_test_dataset = datasets.SVHN(root='./data', split='test', download=True, transform=transform_svhn)\n",
    "\n",
    "usps_train_dataset = datasets.USPS(root='./data', train=True, transform=transform_usps, download=True)\n",
    "usps_test_dataset = datasets.USPS(root='./data', train=False, transform=transform_usps, download=True)"
   ]
  },
  {
   "cell_type": "code",
   "execution_count": 7,
   "id": "a5d87d55-0a8d-40f2-b1cd-c35906a335f7",
   "metadata": {
    "tags": []
   },
   "outputs": [],
   "source": [
    "batch_size = 256  # Set the batch size\n",
    "\n",
    "total_size = len(mnist_train_dataset)\n",
    "val_size = int(0.15 * total_size)\n",
    "train_size = total_size - val_size\n",
    "train_dataset, val_dataset = random_split(mnist_train_dataset, [train_size, val_size]) # Split the dataset\n",
    "\n",
    "mnist_train_loader = DataLoader(train_dataset, batch_size=batch_size, shuffle=True)\n",
    "mnist_val_loader = DataLoader(val_dataset, batch_size=batch_size, shuffle=True)\n",
    "mnist_test_loader = DataLoader(mnist_test_dataset, batch_size=batch_size, shuffle=False)\n",
    "\n",
    "total_size = len(mnistm_train_dataset)\n",
    "val_size = int(0.15 * total_size)\n",
    "train_size = total_size - val_size\n",
    "train_dataset, val_dataset = random_split(mnistm_train_dataset, [train_size, val_size]) # Split the dataset\n",
    "\n",
    "mnistm_train_loader = DataLoader(train_dataset, batch_size=batch_size, shuffle=True)\n",
    "mnistm_val_loader = DataLoader(val_dataset, batch_size=batch_size, shuffle=True)\n",
    "mnistm_test_loader = DataLoader(mnistm_test_dataset, batch_size=batch_size, shuffle=False)\n",
    "\n",
    "total_size = len(svhn_train_dataset)\n",
    "val_size = int(0.15 * total_size)\n",
    "train_size = total_size - val_size\n",
    "train_dataset, val_dataset = random_split(svhn_train_dataset, [train_size, val_size]) # Split the dataset\n",
    "svhn_train_loader = DataLoader(train_dataset, batch_size=batch_size, shuffle=True)\n",
    "svhn_val_loader = DataLoader(val_dataset, batch_size=batch_size, shuffle=True)\n",
    "svhn_test_loader = DataLoader(svhn_test_dataset, batch_size=batch_size, shuffle=False)\n",
    "\n",
    "usps_train_loader = DataLoader(usps_train_dataset, batch_size=batch_size, shuffle=True)\n",
    "usps_test_loader = DataLoader(usps_test_dataset, batch_size=batch_size, shuffle=False)"
   ]
  },
  {
   "cell_type": "code",
   "execution_count": 7,
   "id": "faca1b7a-6549-4079-b796-eecf6daf5bed",
   "metadata": {
    "tags": []
   },
   "outputs": [
    {
     "data": {
      "text/plain": [
       "'\\ncombined_dataset = ConcatDataset([mnist_train_dataset, mnistm_train_dataset])\\n\\ntotal_size = len(combined_dataset)\\n\\nval_size = int(0.15 * total_size) # Define the size of validation set (15% of the total dataset)\\ntrain_size = total_size - val_size\\n\\ntrain_dataset, val_dataset = random_split(combined_dataset, [train_size, val_size]) # Split the dataset\\n\\ntest_dataset = ConcatDataset([mnist_test_dataset, mnistm_test_dataset])\\n\\nbatch_size = 64  # Set the batch size\\ntrain_loader = DataLoader(train_dataset, batch_size=batch_size, shuffle=True)\\nval_loader = DataLoader(val_dataset, batch_size=batch_size, shuffle=False)\\ntest_loader = DataLoader(test_dataset, batch_size=batch_size, shuffle=False)\\n\\nmnistm_test_loader = DataLoader(mnistm_test_dataset, batch_size=64, shuffle=False)\\nsvhn_test_loader = DataLoader(svhn_test_dataset, batch_size=64, shuffle=False)\\n'"
      ]
     },
     "execution_count": 7,
     "metadata": {},
     "output_type": "execute_result"
    }
   ],
   "source": [
    "'''\n",
    "combined_dataset = ConcatDataset([mnist_train_dataset, mnistm_train_dataset])\n",
    "\n",
    "total_size = len(combined_dataset)\n",
    "\n",
    "val_size = int(0.15 * total_size) # Define the size of validation set (15% of the total dataset)\n",
    "train_size = total_size - val_size\n",
    "\n",
    "train_dataset, val_dataset = random_split(combined_dataset, [train_size, val_size]) # Split the dataset\n",
    "\n",
    "test_dataset = ConcatDataset([mnist_test_dataset, mnistm_test_dataset])\n",
    "\n",
    "batch_size = 64  # Set the batch size\n",
    "train_loader = DataLoader(train_dataset, batch_size=batch_size, shuffle=True)\n",
    "val_loader = DataLoader(val_dataset, batch_size=batch_size, shuffle=False)\n",
    "test_loader = DataLoader(test_dataset, batch_size=batch_size, shuffle=False)\n",
    "\n",
    "mnistm_test_loader = DataLoader(mnistm_test_dataset, batch_size=64, shuffle=False)\n",
    "svhn_test_loader = DataLoader(svhn_test_dataset, batch_size=64, shuffle=False)\n",
    "'''"
   ]
  },
  {
   "cell_type": "markdown",
   "id": "bb99b41d-2733-49ee-835f-e4b737382be8",
   "metadata": {},
   "source": [
    "# Model Architecture"
   ]
  },
  {
   "cell_type": "code",
   "execution_count": 6,
   "id": "18ca27b1-0f10-48ab-b919-6eb559e28dbf",
   "metadata": {
    "tags": []
   },
   "outputs": [],
   "source": [
    "class LeNet5(nn.Module):\n",
    "    def __init__(self):\n",
    "        super(LeNet5, self).__init__()\n",
    "        self.conv1 = nn.Conv2d(3, 6, 5)  # Adjust the input channels because input images are RGB images\n",
    "        self.conv2 = nn.Conv2d(6, 16, 5)\n",
    "        self.fc1   = nn.Linear(16*5*5, 120)  # Adjust for the size if you're not resizing to 32x32\n",
    "        self.fc2   = nn.Linear(120, 84)\n",
    "        self.fc3   = nn.Linear(84, 10)\n",
    "\n",
    "    def forward(self, x):\n",
    "        x = F.relu(self.conv1(x))\n",
    "        x = F.max_pool2d(x, 2)\n",
    "        x = F.relu(self.conv2(x))\n",
    "        x = F.max_pool2d(x, 2)\n",
    "        x = x.view(-1, 16*5*5)  # Flatten the tensor\n",
    "        x = F.relu(self.fc1(x))\n",
    "        x = F.relu(self.fc2(x))\n",
    "        x = self.fc3(x)\n",
    "        return x"
   ]
  },
  {
   "cell_type": "markdown",
   "id": "f812ec59-c8c3-4017-886f-efca58f7577c",
   "metadata": {},
   "source": [
    "# Model Training"
   ]
  },
  {
   "cell_type": "code",
   "execution_count": 18,
   "id": "966f8e1e-c0de-40ec-aa9a-bebe54c6cbd2",
   "metadata": {
    "tags": []
   },
   "outputs": [],
   "source": [
    "def train_model(model, train_loader, val_loader, test_loader, num_epochs=10):\n",
    "    # Send the model to the device (GPU or CPU)\n",
    "    model.to(device)\n",
    "\n",
    "    # Loss function and optimizer\n",
    "    criterion = nn.CrossEntropyLoss()\n",
    "    optimizer = optim.Adam(model.parameters(), lr=0.001)\n",
    "\n",
    "    for epoch in range(num_epochs):\n",
    "        print(\"For epoch: \", epoch)\n",
    "        model.train()  # Set the model to training mode\n",
    "        running_loss = 0.0\n",
    "        correct = 0\n",
    "        total = 0\n",
    "\n",
    "        # Training loop\n",
    "        for data in train_loader:\n",
    "            inputs, labels = data\n",
    "            inputs, labels = inputs.to(device), labels.to(device)\n",
    "\n",
    "            # Zero the parameter gradients\n",
    "            optimizer.zero_grad()\n",
    "\n",
    "            # Forward pass\n",
    "            outputs = model(inputs)\n",
    "            loss = criterion(outputs, labels)\n",
    "            loss.backward()\n",
    "            optimizer.step()\n",
    "\n",
    "            # Statistics\n",
    "            running_loss += loss.item()\n",
    "            _, predicted = torch.max(outputs.data, 1)\n",
    "            total += labels.size(0)\n",
    "            correct += (predicted == labels).sum().item()\n",
    "\n",
    "        train_loss = running_loss / len(train_loader)\n",
    "        train_accuracy = correct / total\n",
    "        print(f\"Epoch {epoch+1}/{num_epochs}, Train Loss: {train_loss:.4f}, Train Accuracy: {train_accuracy:.4f}\")\n",
    "\n",
    "        # Validation loop\n",
    "        model.eval()  # Set the model to evaluation mode\n",
    "        val_loss, val_accuracy = evaluate_model(model, val_loader, device, criterion)\n",
    "        print(f\"Epoch {epoch+1}/{num_epochs}, Validation Loss: {val_loss:.4f}, Validation Accuracy: {val_accuracy:.4f}\")\n",
    "\n",
    "    # Test loop\n",
    "    model.eval()\n",
    "    test_loss, test_accuracy = evaluate_model(model, test_loader, device, criterion)\n",
    "    print(f\"Test Loss: {test_loss:.4f}, Test Accuracy: {test_accuracy:.4f}\")\n",
    "    test_loss, test_accuracy = evaluate_model(model, svhn_test_loader, device, criterion)\n",
    "    print(f\"Test Loss: {test_loss:.4f}, Test Accuracy for SVHN data: {test_accuracy:.4f}\")\n",
    "    test_loss, test_accuracy = evaluate_model(model, usps_test_loader, device, criterion)\n",
    "    print(f\"Test Loss: {test_loss:.4f}, Test Accuracy for USPS data: {test_accuracy:.4f}\")\n",
    "    test_loss, test_accuracy = evaluate_model(model, mnist_test_loader, device, criterion)\n",
    "    print(f\"Test Loss: {test_loss:.4f}, Test Accuracy for MNIST data: {test_accuracy:.4f}\")\n",
    "    \n",
    "def evaluate_model(model, loader, device, criterion):\n",
    "    total = 0\n",
    "    correct = 0\n",
    "    running_loss = 0.0\n",
    "    with torch.no_grad():  # No gradients needed for validation/testing\n",
    "        for data in loader:\n",
    "            inputs, labels = data\n",
    "            inputs, labels = inputs.to(device), labels.to(device)\n",
    "\n",
    "            outputs = model(inputs)\n",
    "            loss = criterion(outputs, labels)\n",
    "\n",
    "            running_loss += loss.item()\n",
    "            _, predicted = torch.max(outputs.data, 1)\n",
    "            total += labels.size(0)\n",
    "            correct += (predicted == labels).sum().item()\n",
    "\n",
    "    loss = running_loss / len(loader)\n",
    "    accuracy = correct / total\n",
    "    return loss, accuracy"
   ]
  },
  {
   "cell_type": "code",
   "execution_count": 19,
   "id": "d3b89fd5-6932-4af1-a595-6dfa0a41410b",
   "metadata": {
    "tags": []
   },
   "outputs": [
    {
     "name": "stdout",
     "output_type": "stream",
     "text": [
      "For epoch:  0\n",
      "Epoch 1/10, Train Loss: 1.1746, Train Accuracy: 0.6123\n",
      "Epoch 1/10, Validation Loss: 0.6060, Validation Accuracy: 0.8146\n",
      "For epoch:  1\n",
      "Epoch 2/10, Train Loss: 0.4405, Train Accuracy: 0.8655\n",
      "Epoch 2/10, Validation Loss: 0.3726, Validation Accuracy: 0.8826\n",
      "For epoch:  2\n",
      "Epoch 3/10, Train Loss: 0.3058, Train Accuracy: 0.9064\n",
      "Epoch 3/10, Validation Loss: 0.2917, Validation Accuracy: 0.9120\n",
      "For epoch:  3\n",
      "Epoch 4/10, Train Loss: 0.2523, Train Accuracy: 0.9238\n",
      "Epoch 4/10, Validation Loss: 0.2541, Validation Accuracy: 0.9247\n",
      "For epoch:  4\n",
      "Epoch 5/10, Train Loss: 0.2208, Train Accuracy: 0.9331\n",
      "Epoch 5/10, Validation Loss: 0.2272, Validation Accuracy: 0.9308\n",
      "For epoch:  5\n",
      "Epoch 6/10, Train Loss: 0.1980, Train Accuracy: 0.9395\n",
      "Epoch 6/10, Validation Loss: 0.2059, Validation Accuracy: 0.9366\n",
      "For epoch:  6\n",
      "Epoch 7/10, Train Loss: 0.1790, Train Accuracy: 0.9451\n",
      "Epoch 7/10, Validation Loss: 0.1974, Validation Accuracy: 0.9395\n",
      "For epoch:  7\n",
      "Epoch 8/10, Train Loss: 0.1614, Train Accuracy: 0.9498\n",
      "Epoch 8/10, Validation Loss: 0.1903, Validation Accuracy: 0.9384\n",
      "For epoch:  8\n",
      "Epoch 9/10, Train Loss: 0.1472, Train Accuracy: 0.9534\n",
      "Epoch 9/10, Validation Loss: 0.1780, Validation Accuracy: 0.9438\n",
      "For epoch:  9\n",
      "Epoch 10/10, Train Loss: 0.1363, Train Accuracy: 0.9566\n",
      "Epoch 10/10, Validation Loss: 0.1656, Validation Accuracy: 0.9481\n",
      "Test Loss: 0.1622, Test Accuracy: 0.9483\n",
      "Test Loss: 2.0604, Test Accuracy for SVHN data: 0.3806\n",
      "Test Loss: 1.4025, Test Accuracy for USPS data: 0.5800\n",
      "Test Loss: 0.0909, Test Accuracy for MNIST data: 0.9672\n"
     ]
    }
   ],
   "source": [
    "model = LeNet5()\n",
    "train_model(model, mnistm_train_loader, mnistm_val_loader, mnistm_test_loader, num_epochs = 10)"
   ]
  },
  {
   "cell_type": "code",
   "execution_count": null,
   "id": "99b46e93-91b0-405f-bca8-a921d513f566",
   "metadata": {},
   "outputs": [],
   "source": []
  }
 ],
 "metadata": {
  "kernelspec": {
   "display_name": "Python 3 (ipykernel)",
   "language": "python",
   "name": "python3"
  },
  "language_info": {
   "codemirror_mode": {
    "name": "ipython",
    "version": 3
   },
   "file_extension": ".py",
   "mimetype": "text/x-python",
   "name": "python",
   "nbconvert_exporter": "python",
   "pygments_lexer": "ipython3",
   "version": "3.11.5"
  }
 },
 "nbformat": 4,
 "nbformat_minor": 5
}
