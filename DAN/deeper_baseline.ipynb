{
  "cells": [
    {
      "cell_type": "code",
      "execution_count": null,
      "metadata": {
        "id": "yuUWpbqzxuza"
      },
      "outputs": [],
      "source": [
        "import torch\n",
        "from torchvision import datasets, transforms\n",
        "from torch.utils.data import DataLoader, ConcatDataset\n",
        "from torch.utils.data import Dataset\n",
        "from torch.utils.data import random_split\n",
        "import torch.nn as nn\n",
        "import torch.nn.functional as F\n",
        "import torch.optim as optim\n",
        "import pickle\n",
        "import os\n",
        "from PIL import Image\n",
        "\n",
        "from mnistm import MNISTMDataset"
      ]
    },
    {
      "cell_type": "code",
      "execution_count": null,
      "metadata": {
        "id": "8D5I7i96xuzb",
        "outputId": "2d673f9b-d1a6-45dd-89d2-61d6f9ed0a09"
      },
      "outputs": [
        {
          "data": {
            "text/plain": [
              "'NVIDIA GeForce RTX 3080'"
            ]
          },
          "execution_count": 2,
          "metadata": {},
          "output_type": "execute_result"
        }
      ],
      "source": [
        "# Set device\n",
        "device = torch.device(\"cuda\" if torch.cuda.is_available() else \"cpu\")\n",
        "torch.cuda.get_device_name()"
      ]
    },
    {
      "cell_type": "code",
      "execution_count": null,
      "metadata": {
        "id": "4jnoUQw4xuzc"
      },
      "outputs": [],
      "source": [
        "# Define transformations\n",
        "transform_mnist = transforms.Compose([\n",
        "    transforms.Resize((32, 32)),  # Resize to the same size as used in SVHN)\n",
        "    transforms.Grayscale(num_output_channels=3),  # Convert to 3-channel RGB\n",
        "    transforms.ToTensor(),  # Convert to Tensor\n",
        "    transforms.Normalize((0.5,), (0.5,))  # Normalize (assuming grayscale, same value for all channels)\n",
        "])\n",
        "\n",
        "transform_mnist_m = transforms.Compose([\n",
        "    transforms.Resize((32, 32)),\n",
        "    transforms.ToTensor(),\n",
        "    transforms.Normalize((0.5, 0.5, 0.5), (0.5, 0.5, 0.5))  # Normalize for RGB\n",
        "])\n",
        "\n",
        "transform_svhn = transforms.Compose([\n",
        "    transforms.ToTensor(),\n",
        "    transforms.Normalize((0.5,), (0.5,))\n",
        "])\n"
      ]
    },
    {
      "cell_type": "code",
      "execution_count": null,
      "metadata": {
        "id": "gwjUc5_kxuzd",
        "outputId": "1c707aa7-f4a1-41d0-bbd0-abe82fae3335"
      },
      "outputs": [
        {
          "name": "stdout",
          "output_type": "stream",
          "text": [
            "Using downloaded and verified file: ./data\\train_32x32.mat\n",
            "Using downloaded and verified file: ./data\\test_32x32.mat\n"
          ]
        }
      ],
      "source": [
        "# Load datasets\n",
        "mnist_train_dataset = datasets.MNIST(root='./data', train=True, download=True, transform=transform_mnist)\n",
        "mnist_test_dataset = datasets.MNIST(root='./data', train=False, download=True, transform=transform_mnist)\n",
        "#mnist_m_dataset = datasets.ImageFolder(root='./mnist_m', transform=transform_mnist_m)\n",
        "mnistm_train_dataset = MNISTMDataset(\"./dataset\", train = True, transform=transform_mnist_m)\n",
        "mnistm_test_dataset = MNISTMDataset(\"./dataset\", train = False, transform=transform_mnist_m)\n",
        "\n",
        "svhn_train_dataset = datasets.SVHN(root='./data', split='train', download=True, transform=transform_svhn)\n",
        "svhn_test_dataset = datasets.SVHN(root='./data', split='test', download=True, transform=transform_svhn)"
      ]
    },
    {
      "cell_type": "code",
      "execution_count": null,
      "metadata": {
        "id": "LEwFRWXhxuzd"
      },
      "outputs": [],
      "source": [
        "batch_size = 64  # Set the batch size\n",
        "\n",
        "total_size = len(mnist_train_dataset)\n",
        "val_size = int(0.15 * total_size)\n",
        "train_size = total_size - val_size\n",
        "train_dataset, val_dataset = random_split(mnist_train_dataset, [train_size, val_size])\n",
        "\n",
        "mnist_train_loader = DataLoader(train_dataset, batch_size=batch_size, shuffle=True)\n",
        "mnist_val_loader = DataLoader(val_dataset, batch_size=batch_size, shuffle=True)\n",
        "mnist_test_loader = DataLoader(mnist_test_dataset, batch_size=batch_size, shuffle=False)\n",
        "\n",
        "total_size = len(mnistm_train_dataset)\n",
        "val_size = int(0.15 * total_size)\n",
        "train_size = total_size - val_size\n",
        "train_dataset, val_dataset = random_split(mnistm_train_dataset, [train_size, val_size])\n",
        "\n",
        "mnistm_train_loader = DataLoader(train_dataset, batch_size=batch_size, shuffle=True)\n",
        "mnistm_val_loader = DataLoader(val_dataset, batch_size=batch_size, shuffle=True)\n",
        "mnistm_test_loader = DataLoader(mnistm_test_dataset, batch_size=batch_size, shuffle=False)\n",
        "\n",
        "svhn_train_loader = DataLoader(svhn_train_dataset, batch_size=batch_size, shuffle=True)\n",
        "svhn_test_loader = DataLoader(svhn_test_dataset, batch_size=batch_size, shuffle=False)"
      ]
    },
    {
      "cell_type": "code",
      "execution_count": null,
      "metadata": {
        "id": "iXy_MhxKxuzd"
      },
      "outputs": [],
      "source": [
        "# Feature extractor (e.g., a simple CNN for image tasks)\n",
        "class FeatureExtractor(nn.Module):\n",
        "    def __init__(self):\n",
        "        super(FeatureExtractor, self).__init__()\n",
        "        self.conv1 = nn.Conv2d(3, 32, 3)  # Assuming input images are RGB (3 channels)\n",
        "        self.bn1 = nn.BatchNorm2d(32)\n",
        "        self.conv2 = nn.Conv2d(32, 32, 3)\n",
        "        self.pool = nn.MaxPool2d(2, 2)\n",
        "        self.drop = nn.Dropout2d()\n",
        "        self.conv3 = nn.Conv2d(32, 64, 3)\n",
        "        self.bn2 = nn.BatchNorm2d(64)\n",
        "        self.conv4 = nn.Conv2d(64, 64, 3)\n",
        "        # Calculate the size of the flattened features after the conv and pooling layers\n",
        "        # After the pooling layers, a 32x32 image becomes 5x5\n",
        "        self.fc1 = nn.Linear(64 * 5 * 5, 128)\n",
        "        self.fc2 = nn.Linear(128, 10)\n",
        "\n",
        "    def forward(self, x):\n",
        "        x = self.bn1(F.relu(self.conv1(x)))\n",
        "        x = self.pool(F.relu(self.conv2(x)))\n",
        "        x = self.drop(x)\n",
        "        x = self.bn2(F.relu(self.conv3(x)))\n",
        "        x = self.pool(F.relu(self.conv4(x)))\n",
        "        x = self.drop(x)\n",
        "        x = x.view(-1, 64 * 5 * 5)  # Flatten the output\n",
        "        x = F.relu(self.fc1(x))\n",
        "        x = self.fc2(x)\n",
        "        return x  # This feature vector is passed to the classifier\n",
        "\n",
        "class Classifier(nn.Module):\n",
        "    def __init__(self, num_classes=10):\n",
        "        super(Classifier, self).__init__()\n",
        "        # The input size should match the size of the feature vector from the feature extractor\n",
        "        #self.fc1 = nn.Linear(84, 120)\n",
        "        #self.fc2 = nn.Linear(120, 84)\n",
        "        # The output size should match the number of classes in the classification task\n",
        "        self.fc3 = nn.Linear(64, num_classes)\n",
        "\n",
        "    def forward(self, x):\n",
        "        #x = F.relu(self.fc1(x))\n",
        "        #x = F.relu(self.fc2(x))\n",
        "        x = self.fc3(x) # Logits for each class\n",
        "        return F.softmax(x, dim=1)"
      ]
    },
    {
      "cell_type": "code",
      "execution_count": null,
      "metadata": {
        "id": "D_my6-Zcxuze"
      },
      "outputs": [],
      "source": [
        "model = FeatureExtractor().to(device)\n",
        "\n",
        "# Standard classification loss\n",
        "criterion = nn.CrossEntropyLoss()\n",
        "\n",
        "optimizer = optim.Adam(model.parameters(), lr=0.001)"
      ]
    },
    {
      "cell_type": "code",
      "execution_count": null,
      "metadata": {
        "id": "laJJqJsIxuze"
      },
      "outputs": [],
      "source": [
        "def train_model(model, train_loader, val_loader, test_loader, svhn_test_loader, num_epochs=10):\n",
        "    # Send the model to the device (GPU or CPU)\n",
        "    model.to(device)\n",
        "\n",
        "    # Loss function and optimizer\n",
        "    criterion = nn.CrossEntropyLoss()\n",
        "    optimizer = optim.Adam(model.parameters(), lr=0.001)\n",
        "\n",
        "    for epoch in range(num_epochs):\n",
        "        print(\"For epoch: \", epoch)\n",
        "        model.train()  # Set the model to training mode\n",
        "        running_loss = 0.0\n",
        "        correct = 0\n",
        "        total = 0\n",
        "\n",
        "        # Training loop\n",
        "        for data in train_loader:\n",
        "            inputs, labels = data\n",
        "            inputs, labels = inputs.to(device), labels.to(device)\n",
        "\n",
        "            # Zero the parameter gradients\n",
        "            optimizer.zero_grad()\n",
        "\n",
        "            # Forward pass\n",
        "            outputs = model(inputs)\n",
        "            loss = criterion(outputs, labels)\n",
        "            loss.backward()\n",
        "            optimizer.step()\n",
        "\n",
        "            # Statistics\n",
        "            running_loss += loss.item()\n",
        "            _, predicted = torch.max(outputs.data, 1)\n",
        "            total += labels.size(0)\n",
        "            correct += (predicted == labels).sum().item()\n",
        "\n",
        "        train_loss = running_loss / len(train_loader)\n",
        "        train_accuracy = correct / total\n",
        "        print(f\"Epoch {epoch+1}/{num_epochs}, Train Loss: {train_loss:.4f}, Train Accuracy: {train_accuracy:.4f}\")\n",
        "\n",
        "        # Validation loop\n",
        "        model.eval()  # Set the model to evaluation mode\n",
        "        val_loss, val_accuracy = evaluate_model(model, val_loader, device, criterion)\n",
        "        print(f\"Epoch {epoch+1}/{num_epochs}, Validation Loss: {val_loss:.4f}, Validation Accuracy: {val_accuracy:.4f}\")\n",
        "\n",
        "    # Test loop\n",
        "    model.eval()\n",
        "    test_loss, test_accuracy = evaluate_model(model, test_loader, device, criterion)\n",
        "    print(f\"Test Loss: {test_loss:.4f}, Test Accuracy on Train Data Test: {test_accuracy:.4f}\")\n",
        "    test_loss, test_accuracy = evaluate_model(model, svhn_test_loader, device, criterion)\n",
        "    print(f\"Test Loss: {test_loss:.4f}, Test Accuracy on Different Domain Data: {test_accuracy:.4f}\")\n",
        "\n",
        "def evaluate_model(model, loader, device, criterion):\n",
        "    total = 0\n",
        "    correct = 0\n",
        "    running_loss = 0.0\n",
        "    with torch.no_grad():  # No gradients needed for validation/testing\n",
        "        for data in loader:\n",
        "            inputs, labels = data\n",
        "            inputs, labels = inputs.to(device), labels.to(device)\n",
        "\n",
        "            outputs = model(inputs)\n",
        "            loss = criterion(outputs, labels)\n",
        "\n",
        "            running_loss += loss.item()\n",
        "            _, predicted = torch.max(outputs.data, 1)\n",
        "            total += labels.size(0)\n",
        "            correct += (predicted == labels).sum().item()\n",
        "\n",
        "    loss = running_loss / len(loader)\n",
        "    accuracy = correct / total\n",
        "    return loss, accuracy"
      ]
    },
    {
      "cell_type": "code",
      "execution_count": null,
      "metadata": {
        "id": "xvmIQFAnxuze",
        "outputId": "dde8742b-4650-46ee-be68-4e56f1e2fc0a"
      },
      "outputs": [
        {
          "name": "stdout",
          "output_type": "stream",
          "text": [
            "For epoch:  0\n",
            "Epoch 1/10, Train Loss: 0.9094, Train Accuracy: 0.7051\n",
            "Epoch 1/10, Validation Loss: 0.5028, Validation Accuracy: 0.8492\n",
            "For epoch:  1\n",
            "Epoch 2/10, Train Loss: 0.5029, Train Accuracy: 0.8499\n",
            "Epoch 2/10, Validation Loss: 0.4226, Validation Accuracy: 0.8738\n",
            "For epoch:  2\n",
            "Epoch 3/10, Train Loss: 0.4464, Train Accuracy: 0.8677\n",
            "Epoch 3/10, Validation Loss: 0.3878, Validation Accuracy: 0.8854\n",
            "For epoch:  3\n",
            "Epoch 4/10, Train Loss: 0.4160, Train Accuracy: 0.8747\n",
            "Epoch 4/10, Validation Loss: 0.3556, Validation Accuracy: 0.8961\n",
            "For epoch:  4\n",
            "Epoch 5/10, Train Loss: 0.3907, Train Accuracy: 0.8835\n",
            "Epoch 5/10, Validation Loss: 0.3430, Validation Accuracy: 0.8997\n",
            "For epoch:  5\n",
            "Epoch 6/10, Train Loss: 0.3769, Train Accuracy: 0.8876\n",
            "Epoch 6/10, Validation Loss: 0.3301, Validation Accuracy: 0.9049\n",
            "For epoch:  6\n",
            "Epoch 7/10, Train Loss: 0.3577, Train Accuracy: 0.8929\n",
            "Epoch 7/10, Validation Loss: 0.3290, Validation Accuracy: 0.9054\n",
            "For epoch:  7\n",
            "Epoch 8/10, Train Loss: 0.3496, Train Accuracy: 0.8965\n",
            "Epoch 8/10, Validation Loss: 0.3267, Validation Accuracy: 0.9080\n",
            "For epoch:  8\n",
            "Epoch 9/10, Train Loss: 0.3396, Train Accuracy: 0.8993\n",
            "Epoch 9/10, Validation Loss: 0.3215, Validation Accuracy: 0.9083\n",
            "For epoch:  9\n",
            "Epoch 10/10, Train Loss: 0.3313, Train Accuracy: 0.9013\n",
            "Epoch 10/10, Validation Loss: 0.3084, Validation Accuracy: 0.9092\n",
            "Test Loss: 0.3084, Test Accuracy: 0.9092\n",
            "Test Loss: 1.0774, Test Accuracy for SVHN data: 0.7119\n"
          ]
        }
      ],
      "source": [
        "train_model(model, svhn_train_loader, svhn_test_loader, svhn_test_loader, mnist_test_loader, num_epochs = 10)"
      ]
    },
    {
      "cell_type": "code",
      "execution_count": null,
      "metadata": {
        "id": "QrShTDohxuzg"
      },
      "outputs": [],
      "source": []
    }
  ],
  "metadata": {
    "kernelspec": {
      "display_name": "ml",
      "language": "python",
      "name": "python3"
    },
    "language_info": {
      "codemirror_mode": {
        "name": "ipython",
        "version": 3
      },
      "file_extension": ".py",
      "mimetype": "text/x-python",
      "name": "python",
      "nbconvert_exporter": "python",
      "pygments_lexer": "ipython3",
      "version": "3.11.5"
    },
    "colab": {
      "provenance": []
    }
  },
  "nbformat": 4,
  "nbformat_minor": 0
}